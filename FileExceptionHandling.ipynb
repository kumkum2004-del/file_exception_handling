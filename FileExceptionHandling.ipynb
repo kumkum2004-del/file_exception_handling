{
  "nbformat": 4,
  "nbformat_minor": 0,
  "metadata": {
    "colab": {
      "provenance": []
    },
    "kernelspec": {
      "name": "python3",
      "display_name": "Python 3"
    },
    "language_info": {
      "name": "python"
    }
  },
  "cells": [
    {
      "cell_type": "code",
      "execution_count": null,
      "metadata": {
        "id": "KJJeySEi1zt4"
      },
      "outputs": [],
      "source": []
    },
    {
      "cell_type": "markdown",
      "source": [],
      "metadata": {
        "id": "adK9Kwq911o-"
      }
    },
    {
      "cell_type": "markdown",
      "source": [
        "#ques 1.What is the difference between interpreted and compiled languages?\n",
        "   - Compiled Languages:\n",
        "      - The whole program is translated into machine code (binary) before it runs.\n",
        "      - This translation is done by a compiler.\n",
        "      - After compiling, you get an executable file.\n",
        "  - Interpreted Languages:\n",
        "      - Code is read and executed line by line by an interpreter.\n",
        "      - No separate executable is created.\n",
        "\n",
        "\n",
        "#ques2. What is exception handling in Python?\n",
        "   - It means using code to catch and respond to these errors so your program can continue running or show a friendly message.\n",
        "\n",
        "\n",
        "#ques3. What is the purpose of the finally block in exception handling?\n",
        "   - The finally block in Python is used to write code that should always run, no matter what—whether an error happens or not.\n",
        "\n",
        "\n",
        "#ques4.What is logging in Python?\n",
        "   - Logging means recording messages about what your program is doing while it runs.\n",
        "\n",
        "#ques5. What is the significance of the __del__ method in Python?\n",
        "   - __del__ is a special method in Python, called a destructor.It gets called automatically when an object is about to be destroyed.\n",
        "\n",
        "\n",
        "#ques6.What is the difference between import and from ... import in Python?\n",
        "   -  1. import\n",
        "       - This brings in the entire module.\n",
        "   - 2. from ... import\n",
        "       - This lets you import specific parts from a module.\n",
        "\n",
        "\n",
        "#ques7.How can you handle multiple exceptions in Python?\n",
        "   - Method\n",
        "       - Multiple except blocks\n",
        "       - Tuple of exceptions in one except\n",
        "       - except Exception as e:\n",
        "\n",
        "\n",
        "#ques8.What is the purpose of the with statement when handling files in Python?\n",
        "   - The with statement is used to open and manage files safely and automatically.It makes sure the file is properly closed, even if an error happens while the file is open.\n",
        "\n",
        "\n",
        "#ques9.What is the difference between multithreading and multiprocessing?\n",
        "   -  1. Multiprocessing\n",
        "          - Runs multiple processes—each with its own memory space.\n",
        "          - Uses more system resources\n",
        "   - 2. Multithreading\n",
        "          - Runs multiple threads within a single process.\n",
        "          - All threads share the same memory space.\n",
        "\n",
        "\n",
        "#ques10.What are the advantages of using logging in a program?\n",
        "  - 1. Tracks What's Happening\n",
        "  -  2. Different Levels of Importance\n",
        "  - 3. Saves Logs to Files\n",
        "\n",
        "\n",
        "#ques11.What is memory management in Python?\n",
        "   - Memory management in Python refers to how Python handles the allocation and deallocation of memory for objects and variables during the execution of a program\n",
        "\n",
        "#ques12.What are the basic steps involved in exception handling in Python?\n",
        "   - try: Contains code that may raise an exception.\n",
        "   - except: Catches and handles specific exceptions.\n",
        "   - else: Runs if no exceptions occurred in the try block.\n",
        "   - finally: Runs no matter what, useful for cleanup tasks.\n",
        "\n",
        "\n",
        "#ques13.Why is memory management important in Python?\n",
        "   - Memory management is crucial because it helps ensure that your program runs efficiently and doesn’t waste system resources.\n",
        "\n",
        "\n",
        "#ques14. What is the role of try and except in exception handling?\n",
        "   - try: Runs the code that might cause an exception.\n",
        "   - except: Catches the exception and handles it gracefully without crashing the program.\n",
        "\n",
        "\n",
        "#ques15. How does Python's garbage collection system work?\n",
        "   - Garbage collection in Python is the process of automatically freeing up memory by removing objects that are no longer in use, so the memory can be reused for other things.\n",
        "\n",
        "\n",
        "#ques16. What is the purpose of the else block in exception handling?\n",
        "   - The else block is used to run code that should only execute if no exception occurs in the try block.\n",
        "\n",
        "#ques17. What are the common logging levels in Python?\n",
        "   - DEBUG\n",
        "   - INFO\n",
        "   - WARNING\n",
        "   - ERROR\n",
        "   - CRITICAL\n",
        "\n",
        "\n",
        "#ques18. What is the difference between os.fork() and multiprocessing in Python?\n",
        "   - multiprocessing is a high-level Python module that allows you to create and manage multiple processes easily.\n",
        "   - os.fork() is a low-level system call used to create a new process by duplicating the current process.\n",
        "\n",
        "\n",
        "#ques19. What is the importance of closing a file in Python?\n",
        "   - Always close a file after opening it to ensure proper resource management, data saving, and avoid potential issue.\n",
        "\n",
        "#ques20. What is the difference between file.read() and file.readline() in Python?\n",
        "   - file.read():\n",
        "     - Reads the entire file as a single string.\n",
        "     - It reads all the contents from the file at once.\n",
        "  - file.readline():\n",
        "     - Reads one line at a time from the file.\n",
        "     - It returns the next line of the file as a string each time it’s called.\n",
        "\n",
        "\n",
        "#ques21. What is the logging module in Python used for?\n",
        "   - The logging module in Python is used to add logging functionality to your program. It helps you keep track of what’s happening in your program by recording events, errors, and other messages.\n",
        "\n",
        "#ques22. What is the os module in Python used for in file handling?\n",
        "   - The os module in Python is used for interacting with the operating system and performing various tasks.\n",
        "\n",
        "\n",
        "#ques23. What are the challenges associated with memory management in Python?\n",
        "   - 1. Automatic Memory Management\n",
        "   - 2. Garbage Collection\n",
        "   - 3. Memory Fragmentation\n",
        "\n",
        "\n",
        "#ques24.  How do you raise an exception manually in Python?\n",
        "   - To raise an exception manually in Python, you can use the raise keyword followed by the exception type you want to raise. You can also provide a custom message or value with the exception.\n",
        "\n",
        "\n",
        "#ques25. Why is it important to use multithreading in certain applications?\n",
        "   - Multithreading is important in certain applications because it allows for parallel execution of tasks.\n",
        "\n",
        "   \n",
        "\n"
      ],
      "metadata": {
        "id": "bUFInWSO12cd"
      }
    },
    {
      "cell_type": "code",
      "source": [
        "'''ques1.  How can you open a file for writing in Python and write a string to it?'''\n",
        "with open(\"example.txt\", \"w\") as file:\n",
        "    # Write a string to the file\n",
        "    file.write(\"Hello, this is a string written to the file!\")"
      ],
      "metadata": {
        "id": "XJyNLmcj_r_n"
      },
      "execution_count": 1,
      "outputs": []
    },
    {
      "cell_type": "code",
      "source": [
        "'''ques2. F Write a Python program to read the contents of a file and print each line'''\n",
        "with open(\"example.txt\", \"r\") as file:\n",
        "    for line in file:\n",
        "        # Print each line\n",
        "        print(line.strip())"
      ],
      "metadata": {
        "colab": {
          "base_uri": "https://localhost:8080/"
        },
        "id": "-gV7btpRAmLu",
        "outputId": "98b8f7d7-8877-47bf-d177-dc192659d5ba"
      },
      "execution_count": 2,
      "outputs": [
        {
          "output_type": "stream",
          "name": "stdout",
          "text": [
            "Hello, this is a string written to the file!\n"
          ]
        }
      ]
    },
    {
      "cell_type": "code",
      "source": [
        "'''ques3.  How would you handle a case where the file doesn't exist while trying to open it for reading'''\n",
        "try:\n",
        "    with open(\"example.txt\", \"r\") as file:\n",
        "        for line in file:\n",
        "            print(line.strip())\n",
        "except FileNotFoundError:\n",
        "    print(\"The file does not exist!\")"
      ],
      "metadata": {
        "colab": {
          "base_uri": "https://localhost:8080/"
        },
        "id": "oQDECSAzAmIR",
        "outputId": "7d3b05c8-d89d-492e-e8b2-b1567d3ff966"
      },
      "execution_count": 3,
      "outputs": [
        {
          "output_type": "stream",
          "name": "stdout",
          "text": [
            "Hello, this is a string written to the file!\n"
          ]
        }
      ]
    },
    {
      "cell_type": "code",
      "source": [
        "'''ques4. Write a Python script that reads from one file and writes its content to another file'''\n",
        "with open(\"source_file.txt\", \"r\") as source_file:\n",
        "        with open(\"destination_file.txt\", \"w\") as dest_file:\n",
        "            for line in source_file:\n",
        "                dest_file.write(line)\n",
        "        print(\"File content has been copied successfully.\")"
      ],
      "metadata": {
        "id": "JF2cNvatAmFM"
      },
      "execution_count": 6,
      "outputs": []
    },
    {
      "cell_type": "code",
      "source": [
        "'''ques5. How would you catch and handle division by zero error in Python'''\n",
        "try:\n",
        "    result = 10 / 0\n",
        "except ZeroDivisionError:\n",
        "    # Handle division by zero error\n",
        "    print(\"Error: Division by zero is not allowed!\")\n",
        "else:\n",
        "    print(f\"Result: {result}\")"
      ],
      "metadata": {
        "id": "9YNzGZtHAmCi"
      },
      "execution_count": null,
      "outputs": []
    },
    {
      "cell_type": "code",
      "source": [
        "'''ques6. Write a Python program that logs an error message to a log file when a division by zero exception occurs'''\n",
        "import logging\n",
        "\n",
        "# Configure logging\n",
        "logging.basicConfig(filename=\"error_log.txt\", level=logging.ERROR,\n",
        "                    format=\"%(asctime)s - %(levelname)s - %(message)s\")\n",
        "\n",
        "try:\n",
        "    # Attempt to divide by zero\n",
        "    result = 10 / 0\n",
        "except ZeroDivisionError as e:\n",
        "    # Log the error message\n",
        "    logging.error(\"Division by zero error occurred: %s\", e)\n",
        "    print(\"An error occurred.\")"
      ],
      "metadata": {
        "colab": {
          "base_uri": "https://localhost:8080/"
        },
        "id": "IF4jrIBVAl_B",
        "outputId": "be79d170-c466-43d1-97fd-e3ac9432746c"
      },
      "execution_count": 9,
      "outputs": [
        {
          "output_type": "stream",
          "name": "stderr",
          "text": [
            "ERROR:root:Division by zero error occurred: division by zero\n"
          ]
        },
        {
          "output_type": "stream",
          "name": "stdout",
          "text": [
            "An error occurred.\n"
          ]
        }
      ]
    },
    {
      "cell_type": "code",
      "source": [
        "'''ques7. How do you log information at different levels (INFO, ERROR, WARNING) in Python using the logging module?'''\n",
        "import logging\n",
        "\n",
        "# Configure logging\n",
        "logging.basicConfig(filename=\"error_log.txt\", level=logging.DEBUG,\n",
        "                    format=\"%(asctime)s - %(levelname)s - %(message)s\")\n",
        "logging.info(\"This is an info message.\")\n",
        "logging.warning(\"This is a warning message.\")\n",
        "logging.error(\"This is an error message.\")"
      ],
      "metadata": {
        "colab": {
          "base_uri": "https://localhost:8080/"
        },
        "id": "-LIlrw_6Al6_",
        "outputId": "59602687-b594-4441-808e-6b663043425d"
      },
      "execution_count": 8,
      "outputs": [
        {
          "output_type": "stream",
          "name": "stderr",
          "text": [
            "WARNING:root:This is a warning message.\n",
            "ERROR:root:This is an error message.\n"
          ]
        }
      ]
    },
    {
      "cell_type": "code",
      "source": [
        "'''ques8. Write a program to handle a file opening error using exception handling'''\n",
        "try:\n",
        "    # Try to open a file that may not exist\n",
        "    with open(\"myfile.txt\", \"r\") as file:\n",
        "        content = file.read()\n",
        "        print(content)\n",
        "except FileNotFoundError:\n",
        "    # Handle the case when the file is not found\n",
        "    print(\"Error: The file 'myfile.txt' was not found.\")"
      ],
      "metadata": {
        "colab": {
          "base_uri": "https://localhost:8080/"
        },
        "id": "wws6Zk_kFKJG",
        "outputId": "ef38543c-2003-4408-889a-f88167795c88"
      },
      "execution_count": 7,
      "outputs": [
        {
          "output_type": "stream",
          "name": "stdout",
          "text": [
            "Error: The file 'myfile.txt' was not found.\n"
          ]
        }
      ]
    },
    {
      "cell_type": "code",
      "source": [
        "'''ques9. How can you read a file line by line and store its content in a list in Python'''\n",
        "lines = []\n",
        "with open(\"example.txt\", \"r\") as file:\n",
        "    for line in file:\n",
        "        lines.append(line.strip())\n",
        "\n",
        "print(lines)"
      ],
      "metadata": {
        "id": "PSHOXXdFFKFq"
      },
      "execution_count": null,
      "outputs": []
    },
    {
      "cell_type": "code",
      "source": [
        "'''ques10. How can you append data to an existing file in Python'''\n",
        "with open(\"example.txt\", \"a\") as file:\n",
        "    file.write(\"This is new content added to the file.\\n\")"
      ],
      "metadata": {
        "id": "5LUjkJgBFKC-"
      },
      "execution_count": 10,
      "outputs": []
    },
    {
      "cell_type": "code",
      "source": [
        "'''ques11. Write a Python program that uses a try-except block to handle an error when attempting to access a\n",
        "dictionary key that doesn't exist'''\n",
        "\n",
        "my_dict = {\"name\": \"Kumi\", \"age\": 20}\n",
        "try:\n",
        "    # Attempt to access a key that doesn't exist\n",
        "    value = my_dict[\"address\"]\n",
        "    print(\"Address:\", value)\n",
        "except KeyError:\n",
        "    # Handle the missing key error\n",
        "    print(\"Error: 'address' key not found in the dictionary.\")"
      ],
      "metadata": {
        "colab": {
          "base_uri": "https://localhost:8080/"
        },
        "id": "wn7_5pJFFKAE",
        "outputId": "1d011e27-0498-4c93-f5c8-fef385e195a5"
      },
      "execution_count": 11,
      "outputs": [
        {
          "output_type": "stream",
          "name": "stdout",
          "text": [
            "Error: 'address' key not found in the dictionary.\n"
          ]
        }
      ]
    },
    {
      "cell_type": "code",
      "source": [
        "'''ques12. Write a program that demonstrates using multiple except blocks to handle different types of exceptions'''\n",
        "try:\n",
        "    num1 = int(input(\"Enter a number: \"))\n",
        "    num2 = int(input(\"Enter another number: \"))\n",
        "    result = num1 / num2\n",
        "    print(\"Result:\", result)\n",
        "\n",
        "    my_list = [1, 2, 3]\n",
        "    print(\"Fourth element:\", my_list[3])  # IndexError\n",
        "\n",
        "except ZeroDivisionError:\n",
        "    print(\"Error: Cannot divide by zero.\")\n",
        "\n",
        "except ValueError:\n",
        "    print(\"Error: Invalid input. Please enter numeric values.\")\n",
        "\n",
        "except IndexError:\n",
        "    print(\"Error: List index out of range.\")"
      ],
      "metadata": {
        "id": "atrwFcD8FJ9N"
      },
      "execution_count": null,
      "outputs": []
    },
    {
      "cell_type": "code",
      "source": [
        "'''ques13.  How would you check if a file exists before attempting to read it in Python'''\n",
        "import os\n",
        "file_path = \"example.txt\"\n",
        "if os.path.exists(file_path):\n",
        "    with open(file_path, \"r\") as file:\n",
        "        content = file.read()\n",
        "        print(content)\n",
        "else:\n",
        "    print(\"File does not exist.\")"
      ],
      "metadata": {
        "colab": {
          "base_uri": "https://localhost:8080/"
        },
        "id": "ae3bo1lWFJ6S",
        "outputId": "54efde05-b248-4669-f189-8bea11bca88c"
      },
      "execution_count": 12,
      "outputs": [
        {
          "output_type": "stream",
          "name": "stdout",
          "text": [
            "Hello, this is a string written to the file!This is new content added to the file.\n",
            "\n"
          ]
        }
      ]
    },
    {
      "cell_type": "code",
      "source": [
        "'''ques14. Write a program that uses the logging module to log both informational and error messages'''\n",
        "import logging\n",
        "\n",
        "# Configure logging\n",
        "logging.basicConfig(filename=\"error_log.txt\", level=logging.DEBUG,\n",
        "                    format=\"%(asctime)s - %(levelname)s - %(message)s\")\n",
        "logging.info(\"Program started successfully.\")\n",
        "\n",
        "try:\n",
        "    # Code that may raise an error\n",
        "    num1 = 10\n",
        "    num2 = 0\n",
        "    result = num1 / num2\n",
        "except ZeroDivisionError as e:\n",
        "    # Log an error message\n",
        "    logging.error(f\"Error occurred: {e}\")"
      ],
      "metadata": {
        "id": "vC4gY6IdFJ3Z"
      },
      "execution_count": null,
      "outputs": []
    },
    {
      "cell_type": "code",
      "source": [
        "'''ques15. Write a Python program that prints the content of a file and handles the case when the file is empty'''\n",
        "try:\n",
        "    with open(\"example.txt\", \"r\") as file:\n",
        "        content = file.read()\n",
        "        if content.strip() == \"\":\n",
        "            print(\"The file is empty.\")\n",
        "        else:\n",
        "            print(\"File content:\\n\")\n",
        "            print(content)\n",
        "except FileNotFoundError:\n",
        "    print(\"Error: The file 'example.txt' was not found.\")\n"
      ],
      "metadata": {
        "colab": {
          "base_uri": "https://localhost:8080/"
        },
        "id": "_5aw6WyXFJ0i",
        "outputId": "35d553ca-2fb2-436f-80f9-52655fb2e074"
      },
      "execution_count": 13,
      "outputs": [
        {
          "output_type": "stream",
          "name": "stdout",
          "text": [
            "File content:\n",
            "\n",
            "Hello, this is a string written to the file!This is new content added to the file.\n",
            "\n"
          ]
        }
      ]
    },
    {
      "cell_type": "code",
      "source": [
        "'''ques16. Demonstrate how to use memory profiling to check the memory usage of a small program'''\n",
        "pip install memory-profile"
      ],
      "metadata": {
        "id": "dd6mZlVIFJxu"
      },
      "execution_count": null,
      "outputs": []
    },
    {
      "cell_type": "code",
      "source": [
        "'''ques17. Write a Python program to create and write a list of numbers to a file, one number per line'''\n",
        "numbers = [1, 2, 3, 4, 5, 6, 7, 8, 9, 10]\n",
        "\n",
        "# Open the file in write mode\n",
        "with open(\"numbers.txt\", \"w\") as file:\n",
        "    # Write each number to the file on a new line\n",
        "    for number in numbers:\n",
        "        file.write(f\"{number}\\n\")"
      ],
      "metadata": {
        "id": "zzEQwSaUFJuu"
      },
      "execution_count": null,
      "outputs": []
    },
    {
      "cell_type": "code",
      "source": [
        "'''ques18.  How would you implement a basic logging setup that logs to a file with rotation after 1MB'''\n",
        "import logging\n",
        "from logging.handlers import RotatingFileHandler\n",
        "\n",
        "# Set up logging to rotate the file when it exceeds 1MB\n",
        "handler = RotatingFileHandler(\"app.log\", maxBytes=1024*1024, backupCount=3)  # 1MB max size\n",
        "handler.setLevel(logging.INFO)\n",
        "\n",
        "# Create a simple log format\n",
        "formatter = logging.Formatter('%(asctime)s - %(levelname)s - %(message)s')\n",
        "handler.setFormatter(formatter)\n",
        "\n",
        "# Add the handler to the logger\n",
        "logging.getLogger().addHandler(handler)\n",
        "logging.getLogger().setLevel(logging.INFO)\n",
        "\n",
        "# Log some messages\n",
        "logging.info(\"This is an informational message.\")\n",
        "logging.error(\"This is an error message.\")"
      ],
      "metadata": {
        "id": "K1qgRPxZKkFr"
      },
      "execution_count": null,
      "outputs": []
    },
    {
      "cell_type": "code",
      "source": [
        "'''ques19. Write a program that handles both IndexError and KeyError using a try-except blockF'''\n",
        "my_list = [10, 20, 30]\n",
        "my_dict = {\"name\": \"Kumi\", \"age\": 20}\n",
        "try:\n",
        "    print(my_list[5])\n",
        "    print(my_dict[\"address\"])\n",
        "except IndexError:\n",
        "    print(\"Error: Index out of range in the list.\")\n",
        "except KeyError:\n",
        "    print(\"Error: Key not found in the dictionary.\")"
      ],
      "metadata": {
        "id": "6R_la5lyKkCX"
      },
      "execution_count": null,
      "outputs": []
    },
    {
      "cell_type": "code",
      "source": [
        "'''ques20. How would you open a file and read its contents using a context manager in Python?'''\n",
        "with open(\"example.txt\", \"r\") as file:\n",
        "    content = file.read()  # Read the entire content of the file\n",
        "    print(content)"
      ],
      "metadata": {
        "id": "z6xm90PtKj_b"
      },
      "execution_count": null,
      "outputs": []
    },
    {
      "cell_type": "code",
      "source": [
        "'''ques21. Write a Python program that reads a file and prints the number of occurrences of a specific word'''\n",
        "def count_word_occurrences(file_name, word_to_count):\n",
        "    try:\n",
        "        with open(file_name, \"r\") as file:\n",
        "            content = file.read()\n",
        "            word_count = content.split().count(word_to_count)\n",
        "            print(f\"The word '{word_to_count}' occurs {word_count} times.\")\n",
        "    except FileNotFoundError:\n",
        "        print(f\"Error: The file '{file_name}' does not exist.\")"
      ],
      "metadata": {
        "id": "wy99zzAjKj8g"
      },
      "execution_count": null,
      "outputs": []
    },
    {
      "cell_type": "code",
      "source": [
        "'''ques22. How can you check if a file is empty before attempting to read its contents'''\n",
        "import os\n",
        "\n",
        "def read_file_if_not_empty(file_name):\n",
        "    if os.stat(file_name).st_size == 0:\n",
        "        print(\"The file is empty.\")\n",
        "    else:\n",
        "        with open(file_name, \"r\") as file:\n",
        "            content = file.read()\n",
        "            print(\"File content:\")\n",
        "            print(content)"
      ],
      "metadata": {
        "id": "Mo618HMeKj5Q"
      },
      "execution_count": null,
      "outputs": []
    },
    {
      "cell_type": "code",
      "source": [
        "'''ques23. Write a Python program that writes to a log file when an error occurs during file handling'''\n",
        "import logging\n",
        "\n",
        "# Set up logging to log errors to a log file\n",
        "logging.basicConfig(filename=\"error_log.txt\", level=logging.ERROR,\n",
        "                    format=\"%(asctime)s - %(levelname)s - %(message)s\")\n",
        "\n",
        "def read_file(file_name):\n",
        "    try:\n",
        "        with open(file_name, \"r\") as file:\n",
        "            content = file.read()\n",
        "            print(content)\n",
        "    except Exception as e:\n",
        "        logging.error(f\"Error while handling file '{file_name}': {e}\")"
      ],
      "metadata": {
        "id": "GP1Zw_YzNEUl"
      },
      "execution_count": null,
      "outputs": []
    }
  ]
}